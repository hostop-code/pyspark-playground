{
 "cells": [
  {
   "cell_type": "code",
   "execution_count": 2,
   "id": "3ffee388-3a9a-438a-bd6a-cc18ed886b6c",
   "metadata": {},
   "outputs": [
    {
     "name": "stderr",
     "output_type": "stream",
     "text": [
      "Warning: Ignoring non-Spark config property: hive.metastore.uris\n",
      "Setting default log level to \"WARN\".\n",
      "To adjust logging level use sc.setLogLevel(newLevel). For SparkR, use setLogLevel(newLevel).\n"
     ]
    }
   ],
   "source": [
    "from pyspark.sql import SparkSession\n",
    "\n",
    "# Create a Spark session\n",
    "spark = SparkSession.builder \\\n",
    "    .appName(\"YourAppName\") \\\n",
    "    .getOrCreate()"
   ]
  },
  {
   "cell_type": "code",
   "execution_count": 3,
   "id": "fb2843a1-ef0c-4d28-907a-58c4dbaf31d3",
   "metadata": {},
   "outputs": [
    {
     "data": {
      "text/html": [
       "\n",
       "            <div>\n",
       "                <p><b>SparkSession - hive</b></p>\n",
       "                \n",
       "        <div>\n",
       "            <p><b>SparkContext</b></p>\n",
       "\n",
       "            <p><a href=\"http://c1e919e738cc:4040\">Spark UI</a></p>\n",
       "\n",
       "            <dl>\n",
       "              <dt>Version</dt>\n",
       "                <dd><code>v3.2.0</code></dd>\n",
       "              <dt>Master</dt>\n",
       "                <dd><code>spark://master:7077</code></dd>\n",
       "              <dt>AppName</dt>\n",
       "                <dd><code>YourAppName</code></dd>\n",
       "            </dl>\n",
       "        </div>\n",
       "        \n",
       "            </div>\n",
       "        "
      ],
      "text/plain": [
       "<pyspark.sql.session.SparkSession at 0x7f671f97d720>"
      ]
     },
     "execution_count": 3,
     "metadata": {},
     "output_type": "execute_result"
    }
   ],
   "source": [
    "spark"
   ]
  },
  {
   "cell_type": "code",
   "execution_count": 4,
   "id": "06ef844f-b96b-44e2-8472-6f8f6fe9a895",
   "metadata": {},
   "outputs": [
    {
     "name": "stderr",
     "output_type": "stream",
     "text": [
      "[Stage 0:>                                                          (0 + 8) / 8]\r"
     ]
    },
    {
     "name": "stdout",
     "output_type": "stream",
     "text": [
      "Execution time: 5.3738603591918945 seconds\n",
      "[0, 1, 4, 9, 16, 25, 36, 49, 64, 81]\n"
     ]
    },
    {
     "name": "stderr",
     "output_type": "stream",
     "text": [
      "                                                                                \r"
     ]
    }
   ],
   "source": [
    "import time \n",
    "\n",
    "# Define the size of the dataset\n",
    "num_elements = 1000  # Adjust this based on your stress testing needs\n",
    " \n",
    "# Create an RDD with a range of elements\n",
    "data = list(range(num_elements))\n",
    "rdd = spark.sparkContext.parallelize(data)\n",
    " \n",
    "# Start measuring execution time\n",
    "start_time = time.time()\n",
    " \n",
    "# Perform a basic transformation - square each element\n",
    "squared_rdd = rdd.map(lambda x: x**2)\n",
    " \n",
    "# Collect the results (in a real-world scenario, you might want to perform more complex operations)\n",
    "results = squared_rdd.collect()\n",
    " \n",
    "# Stop measuring execution time\n",
    "end_time = time.time()\n",
    " \n",
    "# Calculate the total execution time\n",
    "execution_time = end_time - start_time\n",
    " \n",
    "# Print the execution time\n",
    "print(f\"Execution time: {execution_time} seconds\")\n",
    " \n",
    "# Print a sample of the results\n",
    "print(results[:10])"
   ]
  }
 ],
 "metadata": {
  "kernelspec": {
   "display_name": "Python 3 (ipykernel)",
   "language": "python",
   "name": "python3"
  },
  "language_info": {
   "codemirror_mode": {
    "name": "ipython",
    "version": 3
   },
   "file_extension": ".py",
   "mimetype": "text/x-python",
   "name": "python",
   "nbconvert_exporter": "python",
   "pygments_lexer": "ipython3",
   "version": "3.10.12"
  }
 },
 "nbformat": 4,
 "nbformat_minor": 5
}
